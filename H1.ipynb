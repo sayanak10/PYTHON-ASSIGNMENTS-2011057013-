{
  "nbformat": 4,
  "nbformat_minor": 0,
  "metadata": {
    "colab": {
      "name": "H1.ipynb",
      "provenance": [],
      "collapsed_sections": []
    },
    "kernelspec": {
      "name": "python3",
      "display_name": "Python 3"
    },
    "language_info": {
      "name": "python"
    }
  },
  "cells": [
    {
      "cell_type": "markdown",
      "metadata": {
        "id": "crkwZf5SCyER"
      },
      "source": [
        "The main idea of this assignment is explore \n",
        "1.   Basic Operation \n",
        "           - print statement \n",
        "           - how to get help \n",
        "           - declare variables \n",
        "           - assign values\n",
        "2. Working with Integers \n",
        "           - operators \n",
        "           - functions \n",
        "3. Working with Strings \n",
        "           - operators \n",
        "           - functions \n",
        "4. Handling Errors \n",
        "           - Syntax \n",
        "           - Run Time \n",
        "           - Logical\n",
        "\n",
        "\n",
        "\n"
      ]
    },
    {
      "cell_type": "code",
      "metadata": {
        "id": "GPfG8zb3LBT5",
        "colab": {
          "base_uri": "https://localhost:8080/"
        },
        "outputId": "404c21a9-3ca3-4753-b0aa-679d172359f8"
      },
      "source": [
        "# print your name \n",
        "print(\"Sayan\")\n",
        "\n",
        "# print your hobbies \n",
        "print(\"reading,traveling,playing sports\")\n",
        "\n",
        "# print your registration number\n",
        "print('211057013')\n"
      ],
      "execution_count": null,
      "outputs": [
        {
          "output_type": "stream",
          "name": "stdout",
          "text": [
            "Sayan\n",
            "reading,traveling,playing sports\n",
            "211057013\n"
          ]
        }
      ]
    },
    {
      "cell_type": "code",
      "metadata": {
        "id": "NYfLS3UvO14i",
        "colab": {
          "base_uri": "https://localhost:8080/"
        },
        "outputId": "3db4634a-1ed0-4017-ca32-761793b7a607"
      },
      "source": [
        "# how to get more information about print functions \n",
        "help(print)\n",
        "\n",
        "\n",
        "# how to get more infromation about math module \n",
        "import math\n",
        "help(math)\n",
        "\n",
        "\n",
        "# how to get more information about symbols \n",
        "help('*')"
      ],
      "execution_count": 25,
      "outputs": [
        {
          "output_type": "stream",
          "name": "stdout",
          "text": [
            "Help on built-in function print in module builtins:\n",
            "\n",
            "print(...)\n",
            "    print(value, ..., sep=' ', end='\\n', file=sys.stdout, flush=False)\n",
            "    \n",
            "    Prints the values to a stream, or to sys.stdout by default.\n",
            "    Optional keyword arguments:\n",
            "    file:  a file-like object (stream); defaults to the current sys.stdout.\n",
            "    sep:   string inserted between values, default a space.\n",
            "    end:   string appended after the last value, default a newline.\n",
            "    flush: whether to forcibly flush the stream.\n",
            "\n",
            "Help on built-in module math:\n",
            "\n",
            "NAME\n",
            "    math\n",
            "\n",
            "DESCRIPTION\n",
            "    This module provides access to the mathematical functions\n",
            "    defined by the C standard.\n",
            "\n",
            "FUNCTIONS\n",
            "    acos(x, /)\n",
            "        Return the arc cosine (measured in radians) of x.\n",
            "    \n",
            "    acosh(x, /)\n",
            "        Return the inverse hyperbolic cosine of x.\n",
            "    \n",
            "    asin(x, /)\n",
            "        Return the arc sine (measured in radians) of x.\n",
            "    \n",
            "    asinh(x, /)\n",
            "        Return the inverse hyperbolic sine of x.\n",
            "    \n",
            "    atan(x, /)\n",
            "        Return the arc tangent (measured in radians) of x.\n",
            "    \n",
            "    atan2(y, x, /)\n",
            "        Return the arc tangent (measured in radians) of y/x.\n",
            "        \n",
            "        Unlike atan(y/x), the signs of both x and y are considered.\n",
            "    \n",
            "    atanh(x, /)\n",
            "        Return the inverse hyperbolic tangent of x.\n",
            "    \n",
            "    ceil(x, /)\n",
            "        Return the ceiling of x as an Integral.\n",
            "        \n",
            "        This is the smallest integer >= x.\n",
            "    \n",
            "    copysign(x, y, /)\n",
            "        Return a float with the magnitude (absolute value) of x but the sign of y.\n",
            "        \n",
            "        On platforms that support signed zeros, copysign(1.0, -0.0)\n",
            "        returns -1.0.\n",
            "    \n",
            "    cos(x, /)\n",
            "        Return the cosine of x (measured in radians).\n",
            "    \n",
            "    cosh(x, /)\n",
            "        Return the hyperbolic cosine of x.\n",
            "    \n",
            "    degrees(x, /)\n",
            "        Convert angle x from radians to degrees.\n",
            "    \n",
            "    erf(x, /)\n",
            "        Error function at x.\n",
            "    \n",
            "    erfc(x, /)\n",
            "        Complementary error function at x.\n",
            "    \n",
            "    exp(x, /)\n",
            "        Return e raised to the power of x.\n",
            "    \n",
            "    expm1(x, /)\n",
            "        Return exp(x)-1.\n",
            "        \n",
            "        This function avoids the loss of precision involved in the direct evaluation of exp(x)-1 for small x.\n",
            "    \n",
            "    fabs(x, /)\n",
            "        Return the absolute value of the float x.\n",
            "    \n",
            "    factorial(x, /)\n",
            "        Find x!.\n",
            "        \n",
            "        Raise a ValueError if x is negative or non-integral.\n",
            "    \n",
            "    floor(x, /)\n",
            "        Return the floor of x as an Integral.\n",
            "        \n",
            "        This is the largest integer <= x.\n",
            "    \n",
            "    fmod(x, y, /)\n",
            "        Return fmod(x, y), according to platform C.\n",
            "        \n",
            "        x % y may differ.\n",
            "    \n",
            "    frexp(x, /)\n",
            "        Return the mantissa and exponent of x, as pair (m, e).\n",
            "        \n",
            "        m is a float and e is an int, such that x = m * 2.**e.\n",
            "        If x is 0, m and e are both 0.  Else 0.5 <= abs(m) < 1.0.\n",
            "    \n",
            "    fsum(seq, /)\n",
            "        Return an accurate floating point sum of values in the iterable seq.\n",
            "        \n",
            "        Assumes IEEE-754 floating point arithmetic.\n",
            "    \n",
            "    gamma(x, /)\n",
            "        Gamma function at x.\n",
            "    \n",
            "    gcd(x, y, /)\n",
            "        greatest common divisor of x and y\n",
            "    \n",
            "    hypot(x, y, /)\n",
            "        Return the Euclidean distance, sqrt(x*x + y*y).\n",
            "    \n",
            "    isclose(a, b, *, rel_tol=1e-09, abs_tol=0.0)\n",
            "        Determine whether two floating point numbers are close in value.\n",
            "        \n",
            "          rel_tol\n",
            "            maximum difference for being considered \"close\", relative to the\n",
            "            magnitude of the input values\n",
            "          abs_tol\n",
            "            maximum difference for being considered \"close\", regardless of the\n",
            "            magnitude of the input values\n",
            "        \n",
            "        Return True if a is close in value to b, and False otherwise.\n",
            "        \n",
            "        For the values to be considered close, the difference between them\n",
            "        must be smaller than at least one of the tolerances.\n",
            "        \n",
            "        -inf, inf and NaN behave similarly to the IEEE 754 Standard.  That\n",
            "        is, NaN is not close to anything, even itself.  inf and -inf are\n",
            "        only close to themselves.\n",
            "    \n",
            "    isfinite(x, /)\n",
            "        Return True if x is neither an infinity nor a NaN, and False otherwise.\n",
            "    \n",
            "    isinf(x, /)\n",
            "        Return True if x is a positive or negative infinity, and False otherwise.\n",
            "    \n",
            "    isnan(x, /)\n",
            "        Return True if x is a NaN (not a number), and False otherwise.\n",
            "    \n",
            "    ldexp(x, i, /)\n",
            "        Return x * (2**i).\n",
            "        \n",
            "        This is essentially the inverse of frexp().\n",
            "    \n",
            "    lgamma(x, /)\n",
            "        Natural logarithm of absolute value of Gamma function at x.\n",
            "    \n",
            "    log(...)\n",
            "        log(x, [base=math.e])\n",
            "        Return the logarithm of x to the given base.\n",
            "        \n",
            "        If the base not specified, returns the natural logarithm (base e) of x.\n",
            "    \n",
            "    log10(x, /)\n",
            "        Return the base 10 logarithm of x.\n",
            "    \n",
            "    log1p(x, /)\n",
            "        Return the natural logarithm of 1+x (base e).\n",
            "        \n",
            "        The result is computed in a way which is accurate for x near zero.\n",
            "    \n",
            "    log2(x, /)\n",
            "        Return the base 2 logarithm of x.\n",
            "    \n",
            "    modf(x, /)\n",
            "        Return the fractional and integer parts of x.\n",
            "        \n",
            "        Both results carry the sign of x and are floats.\n",
            "    \n",
            "    pow(x, y, /)\n",
            "        Return x**y (x to the power of y).\n",
            "    \n",
            "    radians(x, /)\n",
            "        Convert angle x from degrees to radians.\n",
            "    \n",
            "    remainder(x, y, /)\n",
            "        Difference between x and the closest integer multiple of y.\n",
            "        \n",
            "        Return x - n*y where n*y is the closest integer multiple of y.\n",
            "        In the case where x is exactly halfway between two multiples of\n",
            "        y, the nearest even value of n is used. The result is always exact.\n",
            "    \n",
            "    sin(x, /)\n",
            "        Return the sine of x (measured in radians).\n",
            "    \n",
            "    sinh(x, /)\n",
            "        Return the hyperbolic sine of x.\n",
            "    \n",
            "    sqrt(x, /)\n",
            "        Return the square root of x.\n",
            "    \n",
            "    tan(x, /)\n",
            "        Return the tangent of x (measured in radians).\n",
            "    \n",
            "    tanh(x, /)\n",
            "        Return the hyperbolic tangent of x.\n",
            "    \n",
            "    trunc(x, /)\n",
            "        Truncates the Real x to the nearest Integral toward 0.\n",
            "        \n",
            "        Uses the __trunc__ magic method.\n",
            "\n",
            "DATA\n",
            "    e = 2.718281828459045\n",
            "    inf = inf\n",
            "    nan = nan\n",
            "    pi = 3.141592653589793\n",
            "    tau = 6.283185307179586\n",
            "\n",
            "FILE\n",
            "    (built-in)\n",
            "\n",
            "\n",
            "Operator precedence\n",
            "*******************\n",
            "\n",
            "The following table summarizes the operator precedence in Python, from\n",
            "lowest precedence (least binding) to highest precedence (most\n",
            "binding).  Operators in the same box have the same precedence.  Unless\n",
            "the syntax is explicitly given, operators are binary.  Operators in\n",
            "the same box group left to right (except for exponentiation, which\n",
            "groups from right to left).\n",
            "\n",
            "Note that comparisons, membership tests, and identity tests, all have\n",
            "the same precedence and have a left-to-right chaining feature as\n",
            "described in the Comparisons section.\n",
            "\n",
            "+-------------------------------------------------+---------------------------------------+\n",
            "| Operator                                        | Description                           |\n",
            "|=================================================|=======================================|\n",
            "| \"lambda\"                                        | Lambda expression                     |\n",
            "+-------------------------------------------------+---------------------------------------+\n",
            "| \"if\" – \"else\"                                   | Conditional expression                |\n",
            "+-------------------------------------------------+---------------------------------------+\n",
            "| \"or\"                                            | Boolean OR                            |\n",
            "+-------------------------------------------------+---------------------------------------+\n",
            "| \"and\"                                           | Boolean AND                           |\n",
            "+-------------------------------------------------+---------------------------------------+\n",
            "| \"not\" \"x\"                                       | Boolean NOT                           |\n",
            "+-------------------------------------------------+---------------------------------------+\n",
            "| \"in\", \"not in\", \"is\", \"is not\", \"<\", \"<=\", \">\", | Comparisons, including membership     |\n",
            "| \">=\", \"!=\", \"==\"                                | tests and identity tests              |\n",
            "+-------------------------------------------------+---------------------------------------+\n",
            "| \"|\"                                             | Bitwise OR                            |\n",
            "+-------------------------------------------------+---------------------------------------+\n",
            "| \"^\"                                             | Bitwise XOR                           |\n",
            "+-------------------------------------------------+---------------------------------------+\n",
            "| \"&\"                                             | Bitwise AND                           |\n",
            "+-------------------------------------------------+---------------------------------------+\n",
            "| \"<<\", \">>\"                                      | Shifts                                |\n",
            "+-------------------------------------------------+---------------------------------------+\n",
            "| \"+\", \"-\"                                        | Addition and subtraction              |\n",
            "+-------------------------------------------------+---------------------------------------+\n",
            "| \"*\", \"@\", \"/\", \"//\", \"%\"                        | Multiplication, matrix                |\n",
            "|                                                 | multiplication, division, floor       |\n",
            "|                                                 | division, remainder [5]               |\n",
            "+-------------------------------------------------+---------------------------------------+\n",
            "| \"+x\", \"-x\", \"~x\"                                | Positive, negative, bitwise NOT       |\n",
            "+-------------------------------------------------+---------------------------------------+\n",
            "| \"**\"                                            | Exponentiation [6]                    |\n",
            "+-------------------------------------------------+---------------------------------------+\n",
            "| \"await\" \"x\"                                     | Await expression                      |\n",
            "+-------------------------------------------------+---------------------------------------+\n",
            "| \"x[index]\", \"x[index:index]\",                   | Subscription, slicing, call,          |\n",
            "| \"x(arguments...)\", \"x.attribute\"                | attribute reference                   |\n",
            "+-------------------------------------------------+---------------------------------------+\n",
            "| \"(expressions...)\",  \"[expressions...]\", \"{key: | Binding or parenthesized expression,  |\n",
            "| value...}\", \"{expressions...}\"                  | list display, dictionary display, set |\n",
            "|                                                 | display                               |\n",
            "+-------------------------------------------------+---------------------------------------+\n",
            "\n",
            "-[ Footnotes ]-\n",
            "\n",
            "[1] While \"abs(x%y) < abs(y)\" is true mathematically, for floats it\n",
            "    may not be true numerically due to roundoff.  For example, and\n",
            "    assuming a platform on which a Python float is an IEEE 754 double-\n",
            "    precision number, in order that \"-1e-100 % 1e100\" have the same\n",
            "    sign as \"1e100\", the computed result is \"-1e-100 + 1e100\", which\n",
            "    is numerically exactly equal to \"1e100\".  The function\n",
            "    \"math.fmod()\" returns a result whose sign matches the sign of the\n",
            "    first argument instead, and so returns \"-1e-100\" in this case.\n",
            "    Which approach is more appropriate depends on the application.\n",
            "\n",
            "[2] If x is very close to an exact integer multiple of y, it’s\n",
            "    possible for \"x//y\" to be one larger than \"(x-x%y)//y\" due to\n",
            "    rounding.  In such cases, Python returns the latter result, in\n",
            "    order to preserve that \"divmod(x,y)[0] * y + x % y\" be very close\n",
            "    to \"x\".\n",
            "\n",
            "[3] The Unicode standard distinguishes between *code points* (e.g.\n",
            "    U+0041) and *abstract characters* (e.g. “LATIN CAPITAL LETTER A”).\n",
            "    While most abstract characters in Unicode are only represented\n",
            "    using one code point, there is a number of abstract characters\n",
            "    that can in addition be represented using a sequence of more than\n",
            "    one code point.  For example, the abstract character “LATIN\n",
            "    CAPITAL LETTER C WITH CEDILLA” can be represented as a single\n",
            "    *precomposed character* at code position U+00C7, or as a sequence\n",
            "    of a *base character* at code position U+0043 (LATIN CAPITAL\n",
            "    LETTER C), followed by a *combining character* at code position\n",
            "    U+0327 (COMBINING CEDILLA).\n",
            "\n",
            "    The comparison operators on strings compare at the level of\n",
            "    Unicode code points. This may be counter-intuitive to humans.  For\n",
            "    example, \"\"\\u00C7\" == \"\\u0043\\u0327\"\" is \"False\", even though both\n",
            "    strings represent the same abstract character “LATIN CAPITAL\n",
            "    LETTER C WITH CEDILLA”.\n",
            "\n",
            "    To compare strings at the level of abstract characters (that is,\n",
            "    in a way intuitive to humans), use \"unicodedata.normalize()\".\n",
            "\n",
            "[4] Due to automatic garbage-collection, free lists, and the dynamic\n",
            "    nature of descriptors, you may notice seemingly unusual behaviour\n",
            "    in certain uses of the \"is\" operator, like those involving\n",
            "    comparisons between instance methods, or constants.  Check their\n",
            "    documentation for more info.\n",
            "\n",
            "[5] The \"%\" operator is also used for string formatting; the same\n",
            "    precedence applies.\n",
            "\n",
            "[6] The power operator \"**\" binds less tightly than an arithmetic or\n",
            "    bitwise unary operator on its right, that is, \"2**-1\" is \"0.5\".\n",
            "\n",
            "Related help topics: lambda, or, and, not, in, is, BOOLEAN, COMPARISON,\n",
            "BITWISE, SHIFTING, BINARY, FORMATTING, POWER, UNARY, ATTRIBUTES,\n",
            "SUBSCRIPTS, SLICINGS, CALLS, TUPLES, LISTS, DICTIONARIES\n",
            "\n"
          ]
        }
      ]
    },
    {
      "cell_type": "code",
      "metadata": {
        "id": "YmCpHvKVO5ud",
        "colab": {
          "base_uri": "https://localhost:8080/"
        },
        "outputId": "a7deafa1-1159-4128-b53c-47bbaa290c90"
      },
      "source": [
        "# store your role model name in the variable \"role\"\n",
        "role=\"father\"\n",
        "print(role)\n",
        "\n",
        "\n",
        "# describe your role model in the variable \"role_desc\"\n",
        "role_desc=\"hardworking,caring,joyfull\"\n",
        "print(role_desc)\n",
        "\n",
        "\n",
        "# store the numeric value in the variable \"my_values\"\n",
        "my_values=13\n",
        "print(my_values)"
      ],
      "execution_count": 26,
      "outputs": [
        {
          "output_type": "stream",
          "name": "stdout",
          "text": [
            "father\n",
            "hardworking,caring,joyfull\n",
            "13\n"
          ]
        }
      ]
    },
    {
      "cell_type": "code",
      "metadata": {
        "id": "Jkev_gH2T4w7",
        "colab": {
          "base_uri": "https://localhost:8080/"
        },
        "outputId": "23b3137c-685d-4b58-97b9-974c117215c4"
      },
      "source": [
        "# you can perform arithemetic opeartions using python arithmetic opeartors \n",
        "# To perform arithmetic opeations \n",
        "# If your run a 1000 Kilo Meter race in 143 minutes 30 seconds, what is your average time per mile? What is your average speed in miles per hour? \n",
        "# Hint : 1.61 kilometers in a mile\n",
        "\n",
        "\n",
        "distance=1000\n",
        "time=143.5 #in mins\n",
        "\n",
        "miles=distance*0.621371\n",
        "\n",
        "avg_speed_in_time_per_mile= time/miles\n",
        "\n",
        "avg_speed_in_mph=60/avg_speed_in_time_per_mile\n",
        "print(miles)\n",
        "print(avg_speed_in_time_per_mile)\n",
        "print(avg_speed_in_mph)\n",
        "\n"
      ],
      "execution_count": 4,
      "outputs": [
        {
          "output_type": "stream",
          "name": "stdout",
          "text": [
            "621.371\n",
            "0.23094093544758285\n",
            "259.80668989547036\n"
          ]
        }
      ]
    },
    {
      "cell_type": "code",
      "metadata": {
        "id": "M0jRtr_pVDAO",
        "colab": {
          "base_uri": "https://localhost:8080/"
        },
        "outputId": "7982274a-1bec-4dd2-84f1-4d36879386d0"
      },
      "source": [
        "# Suppose the cover price of a python book  is  577.95, but bookstores get a 40% discount.\n",
        "# Shipping costs  150 for the first copy and 50 Rupees for each additional copy. What is the total wholesale cost for 60 copies?\n",
        "\n",
        "bookPrice=577.95\n",
        "discount=.40*bookPrice\n",
        "shippingpricefirst=150\n",
        "shippingpricerest=50\n",
        "copies=60\n",
        "\n",
        "discount_price=bookPrice-discount\n",
        "shipping= shippingpricefirst+(50*(60-1))\n",
        "wholesale=discount_price*60+shipping\n",
        "\n",
        "print(\"The total wholsale cost is\",wholesale)\n",
        "\n",
        "\n"
      ],
      "execution_count": 7,
      "outputs": [
        {
          "output_type": "stream",
          "name": "stdout",
          "text": [
            "The total wholsale cost is 23906.199999999997\n"
          ]
        }
      ]
    },
    {
      "cell_type": "code",
      "metadata": {
        "id": "_lQDsw9z6EKD",
        "colab": {
          "base_uri": "https://localhost:8080/"
        },
        "outputId": "e6cad6c3-fe0a-4511-b256-bf0087082d0b"
      },
      "source": [
        "# write a python code to convert Centrigrade to Fahrenheit , get the value Centrigrade from the user. \n",
        "# Sample Input:\n",
        "# Enter Centrigrade:  23.5 \n",
        "\n",
        "celsius = float(input('Enter temperature in Celsius: ')) \n",
        "\n",
        "fahrenheit = (celsius * 1.8) + 32  \n",
        "\n",
        "print(fahrenheit)  \n",
        "\n",
        "\n"
      ],
      "execution_count": 8,
      "outputs": [
        {
          "output_type": "stream",
          "name": "stdout",
          "text": [
            "Enter temperature in Celsius: 23.5\n",
            "74.30000000000001\n"
          ]
        }
      ]
    },
    {
      "cell_type": "code",
      "metadata": {
        "id": "U2jXh8GNDk3Q",
        "colab": {
          "base_uri": "https://localhost:8080/"
        },
        "outputId": "7a169ced-86e1-41f1-b088-d7fd995932fb"
      },
      "source": [
        "# write a python code to convert Fahrenheit to Centrigrade, get the value Fahreheit from the user. \n",
        "# Sample Input:\n",
        "# Enter Fahreheit:  23.5 \n",
        "F = 23.5\n",
        "C = 5/9*(F-32)\n",
        "print(C)\n"
      ],
      "execution_count": 9,
      "outputs": [
        {
          "output_type": "stream",
          "name": "stdout",
          "text": [
            "-4.722222222222222\n"
          ]
        }
      ]
    },
    {
      "cell_type": "code",
      "metadata": {
        "id": "UH0S-lJJFDQ0",
        "colab": {
          "base_uri": "https://localhost:8080/"
        },
        "outputId": "50faf8d5-8248-4661-a4b3-9dcabec11b0a"
      },
      "source": [
        "# Write a python program of your choice which uses arithmetic operations (use both operators and functions ) with meaningful application \n",
        "\n",
        "def add(a,b):\n",
        "  c=a+b\n",
        "  print(c)\n",
        "num1=2\n",
        "num2=3\n",
        "\n",
        "add(2,3)\n"
      ],
      "execution_count": 10,
      "outputs": [
        {
          "output_type": "stream",
          "name": "stdout",
          "text": [
            "5\n"
          ]
        }
      ]
    },
    {
      "cell_type": "code",
      "metadata": {
        "id": "h18SMgbAG1AL",
        "colab": {
          "base_uri": "https://localhost:8080/"
        },
        "outputId": "b372473a-e009-42c1-9dba-6434b0b8aab8"
      },
      "source": [
        "# create a variable called my_neg to store  negative value \n",
        "\n",
        "my_neg=-2\n",
        "\n",
        "\n",
        "# create a variable called my_float to store float value \n",
        "my_float=2.5\n",
        "\n",
        "\n",
        "# create a variable called my_complex to store complex value \n",
        "my_complex1=4+5j\n",
        "my_complex2=5+2j\n",
        "# Note: there a various method to create complex numbers \n",
        "\n",
        "# perform mathematical operations on complex numbers \n",
        "print(\"Addition\",my_complex1+my_complex2)\n",
        "print(\"Subtraction\",my_complex1-my_complex2)\n",
        "print(\"multiplication\",my_complex1*my_complex2)\n"
      ],
      "execution_count": 13,
      "outputs": [
        {
          "output_type": "stream",
          "name": "stdout",
          "text": [
            "Addition (9+7j)\n",
            "Subtraction (-1+3j)\n",
            "multiplication (10+33j)\n"
          ]
        }
      ]
    },
    {
      "cell_type": "code",
      "metadata": {
        "id": "D9zXw7dfeuQG",
        "colab": {
          "base_uri": "https://localhost:8080/",
          "height": 129
        },
        "outputId": "04ab05c3-ea5e-4907-ccf7-1c32c4a7a8b3"
      },
      "source": [
        "# create a variable called break and assign it a value of 15. what is the response and find the reason behind the behaviour.  \n",
        "break=15\n",
        "#It shows syntax error\n",
        "#'break' is a keyword we can't use the keyword as variable and assign value to it."
      ],
      "execution_count": null,
      "outputs": [
        {
          "output_type": "error",
          "ename": "SyntaxError",
          "evalue": "ignored",
          "traceback": [
            "\u001b[0;36m  File \u001b[0;32m\"<ipython-input-58-0b389943e5ef>\"\u001b[0;36m, line \u001b[0;32m2\u001b[0m\n\u001b[0;31m    break=15\u001b[0m\n\u001b[0m         ^\u001b[0m\n\u001b[0;31mSyntaxError\u001b[0m\u001b[0;31m:\u001b[0m invalid syntax\n"
          ]
        }
      ]
    },
    {
      "cell_type": "markdown",
      "metadata": {
        "id": "Qb6Hx2rP93Jx"
      },
      "source": [
        "It shows syntax error\n",
        "'break' is a keyword we can't use the keyword as variable and assign value to it."
      ]
    },
    {
      "cell_type": "code",
      "metadata": {
        "colab": {
          "base_uri": "https://localhost:8080/"
        },
        "id": "fDPZ89vTmA3i",
        "outputId": "bbc86f66-e1eb-43b3-cef5-6b50c9617f0f"
      },
      "source": [
        "result =\"hello world\"\n",
        "print(result[0])"
      ],
      "execution_count": null,
      "outputs": [
        {
          "output_type": "stream",
          "name": "stdout",
          "text": [
            "h\n"
          ]
        }
      ]
    },
    {
      "cell_type": "code",
      "metadata": {
        "id": "5sv7vl8_R3P5",
        "colab": {
          "base_uri": "https://localhost:8080/"
        },
        "outputId": "1a911ef5-7112-496d-ce17-5499567e429a"
      },
      "source": [
        "# String operations \n",
        "#Write a program to get the name of the guest , then greet the user using their name as part of greeting \n",
        "# Sample Input \n",
        "# Enter the Guest Name: Writer Sudha Murthy \n",
        "# Sample Output \n",
        "# I am extremly hounor to welcome Sudha Murthy to ....... \n",
        "\n",
        "name_of_guest=input(\"Enter the name of the guest\\t\")\n",
        "print(\"I am extremly hounor to welcome\\t\"+name_of_guest)"
      ],
      "execution_count": null,
      "outputs": [
        {
          "output_type": "stream",
          "name": "stdout",
          "text": [
            "Enter the name of the guest\tSudha Murthy\n",
            "I am extremly hounor to welcome\tSudha Murthy\n"
          ]
        }
      ]
    },
    {
      "cell_type": "code",
      "metadata": {
        "id": "EkN2V3BzTyYh",
        "colab": {
          "base_uri": "https://localhost:8080/"
        },
        "outputId": "3599031c-d250-445b-8df2-0caf46792897"
      },
      "source": [
        "quotes  = \"Don't judge each day by the harvest you reap but by the seeds that you plant.\"\n",
        "\n",
        "# count the total number of characters in the variable quotes \n",
        "print(len(quotes))\n",
        "#Displays the total number of characters present in the given string  \n",
        "print(\"Total number of characters in a string: \" + str(count));  \n",
        "\n",
        "# convert the smaller case to upper case, upper case to smaller case \n",
        "print(quotes.swapcase())\n",
        "\n",
        "# check whether the numeric value is present or not \n",
        "if (quotes.isnumeric()==1):\n",
        "  print(\"There is numeric value present in the sentence\")\n",
        "else:\n",
        "  print(\"There is no numeric value present\")\n",
        "\n",
        "# Check whether the word \"harvest\" present in the string or not \n",
        "if (quotes.find(\"harvest\")==-1):\n",
        "  print(\"The word harvest is not present in the string\")\n",
        "else:\n",
        "  print(\"The word harvest is present in the string\")\n",
        "\n",
        "# replace the (.) with (!) \n",
        "print(quotes.replace(\".\",\"!\"))"
      ],
      "execution_count": 15,
      "outputs": [
        {
          "output_type": "stream",
          "name": "stdout",
          "text": [
            "77\n",
            "Total number of characters in a string: 62\n",
            "dON'T JUDGE EACH DAY BY THE HARVEST YOU REAP BUT BY THE SEEDS THAT YOU PLANT.\n",
            "There is no numeric value present\n",
            "The word harvest is present in the string\n",
            "Don't judge each day by the harvest you reap but by the seeds that you plant!\n"
          ]
        }
      ]
    },
    {
      "cell_type": "code",
      "metadata": {
        "id": "9xasXs-dWMTc",
        "colab": {
          "base_uri": "https://localhost:8080/"
        },
        "outputId": "1a6bbf18-4e96-435c-8de1-6acd18b8e7f1"
      },
      "source": [
        "# Explore any 5 string build-in functions which is not discussed in the class\n",
        "# provide with suitable examples \n",
        "\n",
        "\n",
        "#1.capitalize function\n",
        "txt = \"hello, and welcome to my world.\"\n",
        "\n",
        "x = txt.capitalize()\n",
        "\n",
        "print (x)\n",
        "\n",
        "\n",
        "#2.casefold function\n",
        "\n",
        "txt = \"Hello, And Welcome To My World!\"\n",
        "\n",
        "x = txt.casefold()\n",
        "\n",
        "print(x)\n",
        "\n",
        "\n",
        "#3.Center function\n",
        "\n",
        "txt = \"banana\"\n",
        "\n",
        "x = txt.center(20)\n",
        "\n",
        "print(x)\n",
        "\n",
        "\n",
        "#4.count function\n",
        "\n",
        "txt = \"I love apples, apple are my favorite fruit\"\n",
        "\n",
        "x = txt.count(\"apple\")\n",
        "\n",
        "print(x)\n",
        "\n",
        "\n",
        "#5.UTF-8 encoding the string\n",
        "\n",
        "txt = \"My name is Ståle\"\n",
        "\n",
        "x = txt.encode()\n",
        "\n",
        "print(x)\n",
        "\n"
      ],
      "execution_count": 16,
      "outputs": [
        {
          "output_type": "stream",
          "name": "stdout",
          "text": [
            "Hello, and welcome to my world.\n",
            "hello, and welcome to my world!\n",
            "       banana       \n",
            "2\n",
            "b'My name is St\\xc3\\xa5le'\n"
          ]
        }
      ]
    },
    {
      "cell_type": "code",
      "metadata": {
        "id": "vs0lRRDRtRFQ",
        "colab": {
          "base_uri": "https://localhost:8080/"
        },
        "outputId": "16679222-82a4-4e80-afd8-fc811695a2e5"
      },
      "source": [
        "num_int =55\n",
        "num_str =34\n",
        "int(num_str)\n",
        "total = num_int + num_str\n",
        "print (total)\n",
        "print (type(num_int))\n",
        "print (type(num_str))\n"
      ],
      "execution_count": null,
      "outputs": [
        {
          "output_type": "stream",
          "name": "stdout",
          "text": [
            "89\n",
            "<class 'int'>\n",
            "<class 'int'>\n"
          ]
        }
      ]
    },
    {
      "cell_type": "code",
      "metadata": {
        "id": "Rbq2VWPy4Hp-",
        "colab": {
          "base_uri": "https://localhost:8080/"
        },
        "outputId": "b9f37045-00eb-449a-9711-38a8de4bf6dd"
      },
      "source": [
        "#Find potential sources of runtime errors in this code snippet:\n",
        "import math\n",
        "dividend = float(input(\"Please enter the dividend: \"))\n",
        "divisor = float(input(\"Please enter the divisor: \"))\n",
        "quotient = dividend / divisor\n",
        "quotient_rounded = round(quotient)\n",
        "\n",
        "#potential errors are if we are dividing by zero we will get run time error\n",
        "#There is no need of explict defining as\"math.round\""
      ],
      "execution_count": 17,
      "outputs": [
        {
          "name": "stdout",
          "output_type": "stream",
          "text": [
            "Please enter the dividend: 12\n",
            "Please enter the divisor: 6\n"
          ]
        }
      ]
    },
    {
      "cell_type": "markdown",
      "metadata": {
        "id": "UJ-3MBpQADWB"
      },
      "source": [
        "potential errors are if we are dividing by zero we will get run time error\n",
        "#There is no need of explict defining as\"math.round\""
      ]
    },
    {
      "cell_type": "code",
      "metadata": {
        "id": "yNDpOmfoNZhD",
        "colab": {
          "base_uri": "https://localhost:8080/"
        },
        "outputId": "2d928656-628a-4c9f-ff0d-b0c4ad4718a4"
      },
      "source": [
        "# print the quotes : Don't judge each day by the harvest you reap but by the seeds that you plant.\n",
        "# Example for syntax Error \n",
        "\n",
        "print('Don\\'t judge each day by the harvest you reap but by the seeds that you plant')"
      ],
      "execution_count": null,
      "outputs": [
        {
          "output_type": "stream",
          "name": "stdout",
          "text": [
            "Don't judge each day by the harvest you reap but by the seeds that you plant\n"
          ]
        }
      ]
    },
    {
      "cell_type": "code",
      "metadata": {
        "id": "3PLbQJiLOhup",
        "colab": {
          "base_uri": "https://localhost:8080/"
        },
        "outputId": "509aa816-fbcf-4c27-ebdf-72268c71ab0f"
      },
      "source": [
        "# print the Quotes :Don't judge each day by the harvest you reap but by the seeds that you plant.\n",
        "print ('Don\\'t judge each day by the harvest you reap but by the seeds that you plant')"
      ],
      "execution_count": null,
      "outputs": [
        {
          "output_type": "stream",
          "name": "stdout",
          "text": [
            "Don't judge each day by the harvest you reap but by the seeds that you plant\n"
          ]
        }
      ]
    },
    {
      "cell_type": "code",
      "metadata": {
        "id": "qG-UqL6yPvLY",
        "colab": {
          "base_uri": "https://localhost:8080/"
        },
        "outputId": "ee5c970e-e0f2-48e6-9bd8-fe8ff75d42c9"
      },
      "source": [
        "# identify the error, label the type of error and correct the error \n",
        "name =\"plant\" #cant use keyword \"class\" as variable\n",
        "crop_name =\"Brinjal\"\n",
        "yeid = \"20kg\" \n",
        "# print name of the class, crop name and yeid \n",
        "print(name)\n",
        "print(crop_name)\n",
        "print(yeid)\n",
        "\n",
        "x=10\n",
        "print (x)#its lower case x\n",
        "# print the value of x \n"
      ],
      "execution_count": null,
      "outputs": [
        {
          "output_type": "stream",
          "name": "stdout",
          "text": [
            "plant\n",
            "Brinjal\n",
            "20kg\n",
            "10\n"
          ]
        }
      ]
    },
    {
      "cell_type": "markdown",
      "metadata": {
        "id": "7SAMLisKAa8y"
      },
      "source": [
        "Since class is a keyword in python we can't use it as a varaiable.\n",
        "\n",
        "The \"crop name\" variable conatined space which is not allowed in variable name.\n",
        "\n",
        "X is not same as 'x' as python is case sensitive\n"
      ]
    },
    {
      "cell_type": "code",
      "metadata": {
        "id": "y4KL5WaiL_h0",
        "colab": {
          "base_uri": "https://localhost:8080/"
        },
        "outputId": "0129387a-d530-427e-c4b4-80274e6a76fd"
      },
      "source": [
        "# Find the errors in the coding and correct \n",
        "# formula to convert centrigrade to fahr\n",
        "\n",
        "\n",
        "C = 21; F = 9/5*C + 32\n",
        "print(F)\n",
        "C = 21.0; F = (9/5)*C + 3\n",
        "print(F)\n"
      ],
      "execution_count": 18,
      "outputs": [
        {
          "output_type": "stream",
          "name": "stdout",
          "text": [
            "69.80000000000001\n",
            "40.800000000000004\n"
          ]
        }
      ]
    },
    {
      "cell_type": "markdown",
      "metadata": {
        "id": "ZwX0IyikBNPA"
      },
      "source": [
        "The second formula has a logical error.\n"
      ]
    },
    {
      "cell_type": "code",
      "metadata": {
        "id": "OEGKfzBuMe5b",
        "colab": {
          "base_uri": "https://localhost:8080/"
        },
        "outputId": "275c99c6-77e5-419d-ce31-9e16f4c06b8c"
      },
      "source": [
        "#Explain why the code is not working \n",
        "a=10\n",
        "b=5\n",
        "c= a+b \n",
        "#a =10 \n",
        "#b = 5 \n",
        "print(c)\n",
        "#since python is an interpreter it checks each line of code from top to bottom\n",
        "#since a and b values were assigned after c because of that the code didnt work."
      ],
      "execution_count": null,
      "outputs": [
        {
          "output_type": "stream",
          "name": "stdout",
          "text": [
            "15\n"
          ]
        }
      ]
    },
    {
      "cell_type": "markdown",
      "metadata": {
        "id": "TipYy7AyBbk-"
      },
      "source": [
        "\n",
        "#since a and b values were assigned after c because of that the code didnt work."
      ]
    },
    {
      "cell_type": "code",
      "metadata": {
        "colab": {
          "base_uri": "https://localhost:8080/"
        },
        "id": "GeVaIE5lK6Xk",
        "outputId": "4fb0bb4e-931f-4014-f12b-816421b2ec66"
      },
      "source": [
        "# Find the bugs in the below code, correct the mistakes and comment suggestions \n",
        "from math import pi\n",
        "h = 5.0 # height\n",
        "B = 2.0 # base\n",
        "r = 1.5 #radius\n",
        "area_parallelogram = h*B\n",
        "print ('The area of the parallelogram is %.3f' % area_parallelogram)\n",
        "area_square = B**2\n",
        "print ('The area of the square is %g' % area_square)\n",
        "area_circle = pi*r**2\n",
        "print ('The area of the circle is %.3f' % area_circle)\n",
        "volume_cone = 1.0/3*pi*r**2*h\n",
        "print ('The volume of the cone is %.3f' % volume_cone)"
      ],
      "execution_count": 19,
      "outputs": [
        {
          "output_type": "stream",
          "name": "stdout",
          "text": [
            "The area of the parallelogram is 10.000\n",
            "The area of the square is 4\n",
            "The area of the circle is 7.069\n",
            "The volume of the cone is 11.781\n"
          ]
        }
      ]
    },
    {
      "cell_type": "markdown",
      "metadata": {
        "id": "am2wbftQBxhk"
      },
      "source": [
        "The above print statements have Indentation error and Syntax error due to missing '()'. Also in place of '%' there should be ','.\n",
        "\n",
        "'b' should be replaced with 'B'\n",
        "\n",
        "'area_parallelgram' wrong name\n",
        "\n",
        "'radius' word should not be there"
      ]
    },
    {
      "cell_type": "code",
      "metadata": {
        "colab": {
          "base_uri": "https://localhost:8080/"
        },
        "id": "o5pap43SGS_9",
        "outputId": "495f6637-a703-41d7-cbea-17803e6f1fc8"
      },
      "source": [
        "# This code shows the use math module \n",
        "# Run time error and Logical Error \n",
        "\n",
        "from math import sin\n",
        "\n",
        "c=90\n",
        "r= sin(c)\n",
        "\n",
        "x=2.4\n",
        "y = 2.5+3j\n",
        "y_new = abs(y)\n",
        "print(y_new)\n",
        "\n",
        "math.sin(x)\n",
        "math.sin(y_new)"
      ],
      "execution_count": 21,
      "outputs": [
        {
          "output_type": "stream",
          "name": "stdout",
          "text": [
            "3.905124837953327\n"
          ]
        },
        {
          "output_type": "execute_result",
          "data": {
            "text/plain": [
              "-0.6914773966101274"
            ]
          },
          "metadata": {},
          "execution_count": 21
        }
      ]
    },
    {
      "cell_type": "markdown",
      "metadata": {
        "id": "XWsMUBKgCh2i"
      },
      "source": [
        "Variable C must be defined in order to get sine value\n",
        "\n",
        "Syntax_Errror:'y_New' to 'y_new'"
      ]
    },
    {
      "cell_type": "code",
      "metadata": {
        "id": "YI47Zx77kag2",
        "colab": {
          "base_uri": "https://localhost:8080/"
        },
        "outputId": "1bf40a94-479a-4e22-c190-17440fb4167d"
      },
      "source": [
        "print(\"Hello, World!\")\n",
        "# print(5 +\n",
        "print(5+5) \n",
        "print(\"All finished!\")"
      ],
      "execution_count": null,
      "outputs": [
        {
          "output_type": "stream",
          "name": "stdout",
          "text": [
            "Hello, World!\n",
            "10\n",
            "All finished!\n"
          ]
        }
      ]
    },
    {
      "cell_type": "code",
      "metadata": {
        "id": "1BsRwEjLqSxE",
        "colab": {
          "base_uri": "https://localhost:8080/"
        },
        "outputId": "0f92f5fd-57ca-452a-a534-a2f8a5c24dd3"
      },
      "source": [
        "# Print the statement, Kindly help me!\n",
        "print (\"Kindly help me!\")"
      ],
      "execution_count": null,
      "outputs": [
        {
          "output_type": "stream",
          "name": "stdout",
          "text": [
            "Kindly help me!\n"
          ]
        }
      ]
    },
    {
      "cell_type": "code",
      "metadata": {
        "id": "0hlQygpy9Nto",
        "colab": {
          "base_uri": "https://localhost:8080/"
        },
        "outputId": "4b1f437c-3f43-4ea9-a102-7ea9e10fbb09"
      },
      "source": [
        "# print the value of the course \n",
        "course = \"Programming with Python\"\n",
        "print (course)"
      ],
      "execution_count": null,
      "outputs": [
        {
          "output_type": "stream",
          "name": "stdout",
          "text": [
            "Programming with Python\n"
          ]
        }
      ]
    },
    {
      "cell_type": "code",
      "metadata": {
        "id": "ta5XT3nWbX5D"
      },
      "source": [
        ""
      ],
      "execution_count": null,
      "outputs": []
    },
    {
      "cell_type": "code",
      "metadata": {
        "id": "KRQbpCioCZmv",
        "colab": {
          "base_uri": "https://localhost:8080/"
        },
        "outputId": "56a5f2b1-d58d-4172-dd00-189dc7d8a4ab"
      },
      "source": [
        "#store the size of the land in the variable size  in square feet \n",
        "size = 200 \n",
        "#store the income as in\n",
        "#print the value of  both size and income \n",
        "income = 9000\n",
        "print(size)\n",
        "print(income)\n",
        "cropName=\"Drumstick\"\n",
        "year2021 = 'Drumstick'"
      ],
      "execution_count": null,
      "outputs": [
        {
          "output_type": "stream",
          "name": "stdout",
          "text": [
            "200\n",
            "9000\n"
          ]
        }
      ]
    },
    {
      "cell_type": "code",
      "metadata": {
        "id": "AwZuxqIoEJVV",
        "colab": {
          "base_uri": "https://localhost:8080/"
        },
        "outputId": "d91d94a0-507e-430e-e5a6-92ab3629da1e"
      },
      "source": [
        "print ('Don\\'t eat those cookies before dinner.')"
      ],
      "execution_count": null,
      "outputs": [
        {
          "output_type": "stream",
          "name": "stdout",
          "text": [
            "Don't eat those cookies before dinner.\n"
          ]
        }
      ]
    },
    {
      "cell_type": "code",
      "metadata": {
        "id": "l9ymjrwAcGE7",
        "colab": {
          "base_uri": "https://localhost:8080/"
        },
        "outputId": "50980627-c06d-4672-8ffb-f05df2df2e08"
      },
      "source": [
        "print ('Hello \\\\t \\\\t \\\\t world ')"
      ],
      "execution_count": null,
      "outputs": [
        {
          "output_type": "stream",
          "name": "stdout",
          "text": [
            "Hello \\t \\t \\t world \n"
          ]
        }
      ]
    },
    {
      "cell_type": "code",
      "metadata": {
        "id": "6zLCndnBhJkF",
        "colab": {
          "base_uri": "https://localhost:8080/"
        },
        "outputId": "40a8eca3-3156-436c-920a-da7698a49203"
      },
      "source": [
        "print (\"I like Python Programming!\")"
      ],
      "execution_count": null,
      "outputs": [
        {
          "output_type": "stream",
          "name": "stdout",
          "text": [
            "I like Python Programming!\n"
          ]
        }
      ]
    },
    {
      "cell_type": "code",
      "metadata": {
        "colab": {
          "base_uri": "https://localhost:8080/"
        },
        "id": "p3CqLQsAhS7o",
        "outputId": "3f2b7c32-7fc4-401f-e482-01d1a4801fd7"
      },
      "source": [
        "print (\"The first program in any programming language is Hello World.\")"
      ],
      "execution_count": null,
      "outputs": [
        {
          "output_type": "stream",
          "name": "stdout",
          "text": [
            "The first program in any programming language is Hello World.\n"
          ]
        }
      ]
    },
    {
      "cell_type": "code",
      "metadata": {
        "colab": {
          "base_uri": "https://localhost:8080/"
        },
        "id": "y2bSAfLTcNw8",
        "outputId": "0f1ec55c-04f7-452d-8e35-5b357434aba2"
      },
      "source": [
        "print(cropName)"
      ],
      "execution_count": null,
      "outputs": [
        {
          "output_type": "stream",
          "name": "stdout",
          "text": [
            "Drumstick\n"
          ]
        }
      ]
    },
    {
      "cell_type": "code",
      "metadata": {
        "colab": {
          "base_uri": "https://localhost:8080/"
        },
        "id": "naQO1yYtelji",
        "outputId": "d214ab1f-e311-4c64-fd37-e361ead4111b"
      },
      "source": [
        "# find the bug\n",
        "1/2"
      ],
      "execution_count": null,
      "outputs": [
        {
          "output_type": "execute_result",
          "data": {
            "text/plain": [
              "0.5"
            ]
          },
          "metadata": {},
          "execution_count": 26
        }
      ]
    },
    {
      "cell_type": "code",
      "metadata": {
        "colab": {
          "base_uri": "https://localhost:8080/"
        },
        "id": "ww59VvltfTN6",
        "outputId": "2ffac241-f801-41c8-ba4d-3902271870ae"
      },
      "source": [
        "profit = 1000\n",
        "#increment profit by 1\n",
        "profit=profit+1\n",
        "print(profit)"
      ],
      "execution_count": null,
      "outputs": [
        {
          "output_type": "stream",
          "name": "stdout",
          "text": [
            "1001\n"
          ]
        }
      ]
    },
    {
      "cell_type": "code",
      "metadata": {
        "colab": {
          "base_uri": "https://localhost:8080/"
        },
        "id": "cK7zIHHyizeI",
        "outputId": "1a8b3de1-921c-46cd-a602-c6ac9cfbdb3e"
      },
      "source": [
        "from math import log\n",
        "print(log(10))"
      ],
      "execution_count": null,
      "outputs": [
        {
          "output_type": "stream",
          "name": "stdout",
          "text": [
            "2.302585092994046\n"
          ]
        }
      ]
    },
    {
      "cell_type": "code",
      "metadata": {
        "colab": {
          "base_uri": "https://localhost:8080/"
        },
        "id": "kVuiqskDjy5L",
        "outputId": "38df0465-54a0-4aad-fe94-d06e9f6d0668"
      },
      "source": [
        "import math\n",
        "print(math.sin(2))"
      ],
      "execution_count": null,
      "outputs": [
        {
          "output_type": "stream",
          "name": "stdout",
          "text": [
            "0.9092974268256817\n"
          ]
        }
      ]
    },
    {
      "cell_type": "code",
      "metadata": {
        "colab": {
          "base_uri": "https://localhost:8080/"
        },
        "id": "c-ad-Nzrq77u",
        "outputId": "9a59d9a3-50a5-4e08-c60c-e68866976b6d"
      },
      "source": [
        "num_int =55\n",
        "num_str =34\n",
        "total = num_int + num_str\n",
        "print (total)\n",
        "print (type(num_int))\n",
        "print (type(num_str))\n"
      ],
      "execution_count": null,
      "outputs": [
        {
          "output_type": "stream",
          "name": "stdout",
          "text": [
            "89\n",
            "<class 'int'>\n",
            "<class 'int'>\n"
          ]
        }
      ]
    },
    {
      "cell_type": "code",
      "metadata": {
        "id": "jPjjyFnttQmk",
        "colab": {
          "base_uri": "https://localhost:8080/"
        },
        "outputId": "3885ce3c-692b-4c63-969b-06a834b236f0"
      },
      "source": [
        "# Trying to print the multiplication entry, but it throws error \n",
        "5*6 "
      ],
      "execution_count": null,
      "outputs": [
        {
          "output_type": "execute_result",
          "data": {
            "text/plain": [
              "30"
            ]
          },
          "metadata": {},
          "execution_count": 12
        }
      ]
    },
    {
      "cell_type": "code",
      "metadata": {
        "id": "3BbHIDfm9m8Z"
      },
      "source": [
        "# Trying to find the round of 10.2 \n",
        "round 10.2\n"
      ],
      "execution_count": null,
      "outputs": []
    },
    {
      "cell_type": "code",
      "metadata": {
        "colab": {
          "base_uri": "https://localhost:8080/"
        },
        "id": "JgPti3XH905j",
        "outputId": "23096699-f50e-4c35-831e-278d5e217c47"
      },
      "source": [
        "round(10.2)"
      ],
      "execution_count": null,
      "outputs": [
        {
          "output_type": "execute_result",
          "data": {
            "text/plain": [
              "10"
            ]
          },
          "metadata": {},
          "execution_count": 11
        }
      ]
    },
    {
      "cell_type": "code",
      "metadata": {
        "colab": {
          "base_uri": "https://localhost:8080/"
        },
        "id": "SNu9AoTc96rR",
        "outputId": "19a96b44-5c86-4dd8-dd18-39f1e316172d"
      },
      "source": [
        "# Trying to calculate 2 to the power of 5 \n",
        "\n",
        "2**5"
      ],
      "execution_count": null,
      "outputs": [
        {
          "output_type": "execute_result",
          "data": {
            "text/plain": [
              "32"
            ]
          },
          "metadata": {},
          "execution_count": 6
        }
      ]
    },
    {
      "cell_type": "code",
      "metadata": {
        "colab": {
          "base_uri": "https://localhost:8080/"
        },
        "id": "RYI_-mCi_uhB",
        "outputId": "ea7f7ce6-4529-4b97-a764-f7615d32dad5"
      },
      "source": [
        "#Trying to multiply 5 \n",
        "\n",
        "5*5 "
      ],
      "execution_count": null,
      "outputs": [
        {
          "output_type": "execute_result",
          "data": {
            "text/plain": [
              "25"
            ]
          },
          "metadata": {},
          "execution_count": 8
        }
      ]
    },
    {
      "cell_type": "code",
      "metadata": {
        "id": "nBbRBfMb9JOs",
        "colab": {
          "base_uri": "https://localhost:8080/"
        },
        "outputId": "56328600-779e-4d73-bffb-42b04ce03b6b"
      },
      "source": [
        "# Trying to print the text message Hello \n",
        "\n",
        "#Hello \n",
        "print(\"Hello\")"
      ],
      "execution_count": null,
      "outputs": [
        {
          "output_type": "stream",
          "name": "stdout",
          "text": [
            "Hello\n"
          ]
        }
      ]
    },
    {
      "cell_type": "code",
      "metadata": {
        "id": "79e4eQ0RbY4U",
        "colab": {
          "base_uri": "https://localhost:8080/"
        },
        "outputId": "ea0fee39-9a94-4ada-fb01-a57ce03ed519"
      },
      "source": [
        "#store the size of the land in the variable size  in square feet \n",
        "size = 200 \n",
        "#store the income as in\n",
        "#print the value of  both size and income \n",
        "income = 9000\n",
        "print(size,\"sqft\")\n",
        "print(income)\n",
        "cropName=\"Drumstick\"\n",
        "year2021 = 'Drumstick'"
      ],
      "execution_count": 23,
      "outputs": [
        {
          "output_type": "stream",
          "name": "stdout",
          "text": [
            "200 sqft\n",
            "9000\n"
          ]
        }
      ]
    }
  ]
}