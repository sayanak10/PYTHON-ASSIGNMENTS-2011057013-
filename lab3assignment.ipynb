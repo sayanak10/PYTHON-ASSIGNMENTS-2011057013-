{
  "nbformat": 4,
  "nbformat_minor": 0,
  "metadata": {
    "colab": {
      "name": "lab3assignment.ipynb",
      "provenance": [],
      "collapsed_sections": [
        "FeTcGo2nIokU",
        "Z9ss5UZEUVKa",
        "E7AIOVPd1tZB",
        "SaZDaEYu7ES1",
        "1sZWq-kFUv43",
        "NoFrUtND91_h"
      ]
    },
    "kernelspec": {
      "name": "python3",
      "display_name": "Python 3"
    },
    "language_info": {
      "name": "python"
    }
  },
  "cells": [
    {
      "cell_type": "markdown",
      "metadata": {
        "id": "FeTcGo2nIokU"
      },
      "source": [
        "#String built in functions\n"
      ]
    },
    {
      "cell_type": "code",
      "metadata": {
        "id": "cdYe7zw1It3V"
      },
      "source": [
        "dir(str)\n"
      ],
      "execution_count": null,
      "outputs": []
    },
    {
      "cell_type": "code",
      "metadata": {
        "colab": {
          "base_uri": "https://localhost:8080/"
        },
        "id": "eh3Ywy_VJicU",
        "outputId": "78453f6a-ee2f-4e3e-c632-1ca8de4e6fa2"
      },
      "source": [
        "1.#string.find()\n",
        "#find() method finds the first occurence of the specified value\n",
        "\n",
        "str1= \"Hello World\"\n",
        "print(\"The position of the letter 'e' is at:\",str1.find('e'))"
      ],
      "execution_count": null,
      "outputs": [
        {
          "output_type": "stream",
          "name": "stdout",
          "text": [
            "The position of the letter 'e' is at: 1\n"
          ]
        }
      ]
    },
    {
      "cell_type": "code",
      "metadata": {
        "colab": {
          "base_uri": "https://localhost:8080/"
        },
        "id": "XBkR0qYhLL3E",
        "outputId": "9582f569-d0ff-43df-dfab-815548850750"
      },
      "source": [
        "#2.string.replace()\n",
        "#replace() is an inbuilt function in the Python programming language that returns a copy of the string where all occurrences of a substring are replaced with another substring\n",
        "\n",
        "string = \"Hello world\"\n",
        "print(string.replace(\"l\",\"e\"))\n",
        "\n"
      ],
      "execution_count": null,
      "outputs": [
        {
          "output_type": "stream",
          "name": "stdout",
          "text": [
            "Heeeo wored\n"
          ]
        }
      ]
    },
    {
      "cell_type": "code",
      "metadata": {
        "colab": {
          "base_uri": "https://localhost:8080/"
        },
        "id": "pEgyGzrtMNRs",
        "outputId": "8424a239-75c0-4150-b61b-e836f3cac49a"
      },
      "source": [
        "#3.string.capitalize()\n",
        "\"\"\"capitalize method returns a copy of the original string\n",
        "and  converts the first character of the string to a capital \n",
        " while making all other characters in the string lowercase letters\"\"\"\n",
        "\n",
        " #example\n",
        "\n",
        "str1='manipal'\n",
        "str2='university'\n",
        "\n",
        "print(str1.capitalize()+str2.capitalize())"
      ],
      "execution_count": null,
      "outputs": [
        {
          "output_type": "stream",
          "name": "stdout",
          "text": [
            "ManipalUniversity\n"
          ]
        }
      ]
    },
    {
      "cell_type": "code",
      "metadata": {
        "colab": {
          "base_uri": "https://localhost:8080/"
        },
        "id": "aR9MzJExNSxd",
        "outputId": "2a89c634-02cb-41d3-96f0-c2d6cfb4ae15"
      },
      "source": [
        "#4. string join()\n",
        "\n",
        "l1=['1','2']\n",
        "\n",
        "s=\"-\"\n",
        "s=s.join(l1)\n",
        "print(s)"
      ],
      "execution_count": null,
      "outputs": [
        {
          "output_type": "stream",
          "name": "stdout",
          "text": [
            "1-2\n"
          ]
        }
      ]
    },
    {
      "cell_type": "code",
      "metadata": {
        "colab": {
          "base_uri": "https://localhost:8080/"
        },
        "id": "dM0ypKg_OLwl",
        "outputId": "5b4606eb-ceec-4740-859c-7c16421a7574"
      },
      "source": [
        "#5.strip()\n",
        "#strip method removes and leading and trailing characters.\n",
        "\n",
        "str= \"  hello  \"\n",
        "s=str.strip()\n",
        "\n",
        "print(s,\"world\")"
      ],
      "execution_count": null,
      "outputs": [
        {
          "output_type": "stream",
          "name": "stdout",
          "text": [
            "hello world\n"
          ]
        }
      ]
    },
    {
      "cell_type": "code",
      "metadata": {
        "colab": {
          "base_uri": "https://localhost:8080/"
        },
        "id": "txCusjOCO8Vd",
        "outputId": "ae371f75-da3c-4101-9f63-33704858a4fa"
      },
      "source": [
        "#6.lstrip method:\n",
        "#lstrip method returns a cpy of the string with leading characters removed.\n",
        "#If no method passed it removes leading spaces\n",
        "\n",
        "s=\"  hello\"\n",
        "print(s.lstrip())"
      ],
      "execution_count": null,
      "outputs": [
        {
          "output_type": "stream",
          "name": "stdout",
          "text": [
            "hello\n"
          ]
        }
      ]
    },
    {
      "cell_type": "code",
      "metadata": {
        "colab": {
          "base_uri": "https://localhost:8080/"
        },
        "id": "jGY-cT-oPpNd",
        "outputId": "f85294f9-fa31-4f34-c5a1-7567b7e2b35f"
      },
      "source": [
        "#7.rstrip method\n",
        "#The rstrip() method removes any trailing characters\n",
        "# space is the default trailing character to remove.\n",
        "txt = \"     banana     \"\n",
        "\n",
        "x = txt.rstrip()\n",
        "\n",
        "print(\"of all fruits\", x, \"is my favorite\")\n",
        "\n"
      ],
      "execution_count": null,
      "outputs": [
        {
          "output_type": "stream",
          "name": "stdout",
          "text": [
            "of all fruits      banana is my favorite\n"
          ]
        }
      ]
    },
    {
      "cell_type": "code",
      "metadata": {
        "colab": {
          "base_uri": "https://localhost:8080/"
        },
        "id": "y2rQMW2CQ_1F",
        "outputId": "6b698333-8784-4fec-93b7-1cb86aac93dd"
      },
      "source": [
        "#8.split()\n",
        "\"\"\"split() method in Python split a string into a list of strings after breaking the\n",
        "given string by the specified separator\"\"\"\n",
        "\n",
        "#example\n",
        "\n",
        "s=\"manipal university\"\n",
        "print(s.split())\n",
        "\n",
        "#splits at ','\n",
        "print(s.split(','))\n"
      ],
      "execution_count": null,
      "outputs": [
        {
          "output_type": "stream",
          "name": "stdout",
          "text": [
            "['manipal', 'university']\n",
            "['manipal university']\n"
          ]
        }
      ]
    },
    {
      "cell_type": "code",
      "metadata": {
        "colab": {
          "base_uri": "https://localhost:8080/"
        },
        "id": "JyWl-d0ZSM-N",
        "outputId": "567753b4-d4f0-48e8-c829-767dc00d7847"
      },
      "source": [
        "#9.rfind()\n",
        "\"\"\"Python String rfind() method returns the highest index of the substring if found\n",
        "in the given string. If not found then it returns -1.\"\"\"\n",
        "\n",
        "#returns highest index of the substring\n",
        "s='real in real'\n",
        "d=s.rfind('real')\n",
        "print(d)"
      ],
      "execution_count": null,
      "outputs": [
        {
          "output_type": "stream",
          "name": "stdout",
          "text": [
            "8\n"
          ]
        }
      ]
    },
    {
      "cell_type": "code",
      "metadata": {
        "colab": {
          "base_uri": "https://localhost:8080/"
        },
        "id": "z6zCNyVTTPGl",
        "outputId": "e4fcf4aa-c248-4d17-b47f-8d905daf76eb"
      },
      "source": [
        "#10.isalnum()\n",
        "\n",
        "# isalnum () checks whether the string consists of alphanumeric characters.\n",
        "\n",
        "#example\n",
        "\n",
        "s=\"AF54\"\n",
        "print(s.isalnum())"
      ],
      "execution_count": null,
      "outputs": [
        {
          "output_type": "stream",
          "name": "stdout",
          "text": [
            "True\n"
          ]
        }
      ]
    },
    {
      "cell_type": "markdown",
      "metadata": {
        "id": "Z9ss5UZEUVKa"
      },
      "source": [
        "#DICTIONARY FUNCTION CALLS\n"
      ]
    },
    {
      "cell_type": "code",
      "metadata": {
        "colab": {
          "base_uri": "https://localhost:8080/"
        },
        "id": "X10Sz3oOnVKE",
        "outputId": "4ef331b1-8c89-4c6e-958f-923324048a2a"
      },
      "source": [
        "dir(dict)"
      ],
      "execution_count": 61,
      "outputs": [
        {
          "output_type": "execute_result",
          "data": {
            "text/plain": [
              "['__class__',\n",
              " '__contains__',\n",
              " '__delattr__',\n",
              " '__delitem__',\n",
              " '__dir__',\n",
              " '__doc__',\n",
              " '__eq__',\n",
              " '__format__',\n",
              " '__ge__',\n",
              " '__getattribute__',\n",
              " '__getitem__',\n",
              " '__gt__',\n",
              " '__hash__',\n",
              " '__init__',\n",
              " '__init_subclass__',\n",
              " '__iter__',\n",
              " '__le__',\n",
              " '__len__',\n",
              " '__lt__',\n",
              " '__ne__',\n",
              " '__new__',\n",
              " '__reduce__',\n",
              " '__reduce_ex__',\n",
              " '__repr__',\n",
              " '__setattr__',\n",
              " '__setitem__',\n",
              " '__sizeof__',\n",
              " '__str__',\n",
              " '__subclasshook__',\n",
              " 'clear',\n",
              " 'copy',\n",
              " 'fromkeys',\n",
              " 'get',\n",
              " 'items',\n",
              " 'keys',\n",
              " 'pop',\n",
              " 'popitem',\n",
              " 'setdefault',\n",
              " 'update',\n",
              " 'values']"
            ]
          },
          "metadata": {},
          "execution_count": 61
        }
      ]
    },
    {
      "cell_type": "code",
      "metadata": {
        "colab": {
          "base_uri": "https://localhost:8080/"
        },
        "id": "SR6hr7awVwvC",
        "outputId": "c18ef96b-6ee2-4eca-9290-138271e6129b"
      },
      "source": [
        "#1.copy() method in dictionary \n",
        "s={\"year\":2021,\"month\":'october'}\n",
        "y=s.copy()\n",
        "print(y)"
      ],
      "execution_count": 62,
      "outputs": [
        {
          "output_type": "stream",
          "name": "stdout",
          "text": [
            "{'year': 2021, 'month': 'october'}\n"
          ]
        }
      ]
    },
    {
      "cell_type": "code",
      "metadata": {
        "colab": {
          "base_uri": "https://localhost:8080/"
        },
        "id": "NWmpwVfAWBIX",
        "outputId": "aeaab6c0-78bb-44ba-a48d-e0277e8b2efa"
      },
      "source": [
        "#2.fromkeys() method in dictionary\n",
        "#The fromkeys() method returns a dictionary with the specified keys and the specified value.\n",
        "\n",
        "a=('k1','k2')\n",
        "b=0\n",
        "\n",
        "dic=dict.fromkeys(a,b)\n",
        "print(dic)\n",
        "\n"
      ],
      "execution_count": 63,
      "outputs": [
        {
          "output_type": "stream",
          "name": "stdout",
          "text": [
            "{'k1': 0, 'k2': 0}\n"
          ]
        }
      ]
    },
    {
      "cell_type": "code",
      "metadata": {
        "colab": {
          "base_uri": "https://localhost:8080/"
        },
        "id": "2Xump2s3XVqX",
        "outputId": "af545582-87bf-47c9-c89f-bf333cf5758d"
      },
      "source": [
        "#3.get() method in dictionary\n",
        "s={\"year\":2021,\"month\":'october'}\n",
        "y=s.get(\"year\")\n",
        "print(y)\n",
        "\n"
      ],
      "execution_count": 64,
      "outputs": [
        {
          "output_type": "stream",
          "name": "stdout",
          "text": [
            "2021\n"
          ]
        }
      ]
    },
    {
      "cell_type": "code",
      "metadata": {
        "colab": {
          "base_uri": "https://localhost:8080/"
        },
        "id": "53-kMt74YLqF",
        "outputId": "b941789d-93e7-43e8-ffae-078c741a50d7"
      },
      "source": [
        "#4. items() function in dictionary\n",
        "\n",
        "s={\"year\":2021,\"month\":'october'}\n",
        "\n",
        "y=s.items()\n",
        "print(y)"
      ],
      "execution_count": 65,
      "outputs": [
        {
          "output_type": "stream",
          "name": "stdout",
          "text": [
            "dict_items([('year', 2021), ('month', 'october')])\n"
          ]
        }
      ]
    },
    {
      "cell_type": "code",
      "metadata": {
        "colab": {
          "base_uri": "https://localhost:8080/"
        },
        "id": "_61CDBpZYgxG",
        "outputId": "f846d494-65c3-407c-c050-dd4448eecf64"
      },
      "source": [
        "#5. keys() method in dictionary\n",
        "s={\"year\":2021,\"month\":'october'}\n",
        "\n",
        "y=s.keys()\n",
        "print(y)\n"
      ],
      "execution_count": 66,
      "outputs": [
        {
          "output_type": "stream",
          "name": "stdout",
          "text": [
            "dict_keys(['year', 'month'])\n"
          ]
        }
      ]
    },
    {
      "cell_type": "code",
      "metadata": {
        "colab": {
          "base_uri": "https://localhost:8080/"
        },
        "id": "kQJ3U5s2ZQWz",
        "outputId": "12302da3-fec8-4712-9486-019ef25dcdd1"
      },
      "source": [
        "#6.setdefault() method in dictionary\n",
        "#The setdefault() method returns the value of the item with the specified key\n",
        "s={\"year\":2021,\"month\":'october'}\n",
        "l=s.setdefault(\"month\",\"spetember\")\n",
        "\n",
        "print(l)\n",
        "\n"
      ],
      "execution_count": 67,
      "outputs": [
        {
          "output_type": "stream",
          "name": "stdout",
          "text": [
            "october\n"
          ]
        }
      ]
    },
    {
      "cell_type": "code",
      "metadata": {
        "colab": {
          "base_uri": "https://localhost:8080/"
        },
        "id": "PWdnyrI8okMD",
        "outputId": "66c2f5de-8e20-41d4-dc2b-20b0bab35534"
      },
      "source": [
        "#7.update() method in dictionary\n",
        "#The update() method inserts the specified items to the dictionary\n",
        "\n",
        "s={\"year\":2021,\"month\":'october'}\n",
        "\n",
        "s.update({\"year\":2020})\n",
        "\n",
        "print(s)\n",
        "\n"
      ],
      "execution_count": 68,
      "outputs": [
        {
          "output_type": "stream",
          "name": "stdout",
          "text": [
            "{'year': 2020, 'month': 'october'}\n"
          ]
        }
      ]
    },
    {
      "cell_type": "code",
      "metadata": {
        "colab": {
          "base_uri": "https://localhost:8080/"
        },
        "id": "7ZZwjwE0pXkE",
        "outputId": "9025992c-615e-48ab-b4b3-27473aec7445"
      },
      "source": [
        "#8.values() method in dictionary \n",
        "#the values of the dictinoary are displayed as list.\n",
        "s={\"year\":2021,\"month\":'october'}\n",
        "\n",
        "l=s.values()\n",
        "print(l)\n"
      ],
      "execution_count": 69,
      "outputs": [
        {
          "output_type": "stream",
          "name": "stdout",
          "text": [
            "dict_values([2021, 'october'])\n"
          ]
        }
      ]
    },
    {
      "cell_type": "code",
      "metadata": {
        "colab": {
          "base_uri": "https://localhost:8080/"
        },
        "id": "FFV8ZPjMx9o9",
        "outputId": "5709f6a8-cff8-4707-f658-7ad370b28a60"
      },
      "source": [
        "#9._str_()  to convert dictionary to string\n",
        "\n",
        "s={\"year\":2021,\"month\":'october'}\n",
        "c=s.__str__()\n",
        "print(type(c))\n",
        "print(c)\n",
        "\n",
        "\n"
      ],
      "execution_count": 70,
      "outputs": [
        {
          "output_type": "stream",
          "name": "stdout",
          "text": [
            "<class 'str'>\n",
            "{'year': 2021, 'month': 'october'}\n"
          ]
        }
      ]
    },
    {
      "cell_type": "code",
      "metadata": {
        "colab": {
          "base_uri": "https://localhost:8080/"
        },
        "id": "O9BpP1w80N8s",
        "outputId": "a0839a96-d671-41e7-8d99-f5486a308f57"
      },
      "source": [
        "#10.__sizeof__() method in dictionary to check the space allocated\n",
        "\n",
        "\n",
        "s={\"year\":2021,\"month\":'october'}\n",
        "c=s.__sizeof__()\n",
        "print(c)"
      ],
      "execution_count": 71,
      "outputs": [
        {
          "output_type": "stream",
          "name": "stdout",
          "text": [
            "216\n"
          ]
        }
      ]
    },
    {
      "cell_type": "markdown",
      "metadata": {
        "id": "1sZWq-kFUv43"
      },
      "source": [
        "#TUPLE FUNCTION CALLS\n",
        "*italicized text*"
      ]
    },
    {
      "cell_type": "code",
      "metadata": {
        "id": "6n5QdRdbU5te"
      },
      "source": [
        "dir(tuple)\n"
      ],
      "execution_count": null,
      "outputs": []
    },
    {
      "cell_type": "code",
      "metadata": {
        "id": "nNJCTdlnWHNe",
        "colab": {
          "base_uri": "https://localhost:8080/"
        },
        "outputId": "152d24eb-7771-43c0-84fa-fee2142e5ca8"
      },
      "source": [
        "#1.count()\n",
        "\"\"\"python count() method counts the occurences of an element in the tuple.\n",
        "It returns the occurence of the element passed during call\"\"\"\n",
        "\n",
        "t=(2,2,4,6,8,10)\n",
        "c=t.count(2)\n",
        "print(c)"
      ],
      "execution_count": 2,
      "outputs": [
        {
          "output_type": "stream",
          "name": "stdout",
          "text": [
            "2\n"
          ]
        }
      ]
    },
    {
      "cell_type": "code",
      "metadata": {
        "colab": {
          "base_uri": "https://localhost:8080/"
        },
        "id": "jRzjlS7OFrgS",
        "outputId": "83e01bab-0d61-4e9a-ed28-ecb73fe3fed4"
      },
      "source": [
        "#2.index\n",
        "\"\"\"The index() method finds the first occurrence of the specified value.\"\"\"\n",
        "\n",
        "t=(2,2,4,6,8,10) \n",
        "c=t.index(2)\n",
        "print(c)"
      ],
      "execution_count": 5,
      "outputs": [
        {
          "output_type": "stream",
          "name": "stdout",
          "text": [
            "0\n"
          ]
        }
      ]
    },
    {
      "cell_type": "code",
      "metadata": {
        "colab": {
          "base_uri": "https://localhost:8080/"
        },
        "id": "IFzZVnA0Lesg",
        "outputId": "6ddafdf3-049f-4a55-c87e-6b2bcb2b6df8"
      },
      "source": [
        "#3._add_()\n",
        "tup1=(1,2,3)\n",
        "c=tup1.__add__((2,3))\n",
        "print(c)"
      ],
      "execution_count": 12,
      "outputs": [
        {
          "output_type": "stream",
          "name": "stdout",
          "text": [
            "(1, 2, 3, 2, 3)\n"
          ]
        }
      ]
    },
    {
      "cell_type": "code",
      "metadata": {
        "colab": {
          "base_uri": "https://localhost:8080/"
        },
        "id": "lUO_Q1uuLu9c",
        "outputId": "7a719da6-8641-46b0-df38-440cf406112b"
      },
      "source": [
        "#4._len()_\n",
        "#FINDING THE LENGHT OF THE TUPLE USING MAGIC FUNCTIONS\n",
        "tup1=(1,2,3)\n",
        "c=tup1.__len__()\n",
        "print(c)\n"
      ],
      "execution_count": 15,
      "outputs": [
        {
          "output_type": "stream",
          "name": "stdout",
          "text": [
            "3\n"
          ]
        }
      ]
    },
    {
      "cell_type": "code",
      "metadata": {
        "colab": {
          "base_uri": "https://localhost:8080/"
        },
        "id": "tvpnOzJ-P1Qe",
        "outputId": "1f105560-c54a-4770-c8ba-f1211a6121a4"
      },
      "source": [
        "#5._sizeof()_\n",
        "#Python also has an inbuilt __sizeof__() method to determine the space allocation of an object\n",
        "tup1=(1,2,3)\n",
        "c=tup1.__sizeof__()\n",
        "print(c)\n"
      ],
      "execution_count": 16,
      "outputs": [
        {
          "output_type": "stream",
          "name": "stdout",
          "text": [
            "48\n"
          ]
        }
      ]
    },
    {
      "cell_type": "code",
      "metadata": {
        "colab": {
          "base_uri": "https://localhost:8080/"
        },
        "id": "M5hPpBiPSTDl",
        "outputId": "4732e8c5-211a-4e01-d67b-85d952a23af8"
      },
      "source": [
        "#6_str_()\n",
        "#converting tuple to string\n",
        "tup1=(1,2,3)\n",
        "c=tup1.__str__()\n",
        "print(type(c))\n",
        "print(c)"
      ],
      "execution_count": 17,
      "outputs": [
        {
          "output_type": "stream",
          "name": "stdout",
          "text": [
            "<class 'str'>\n",
            "(1, 2, 3)\n"
          ]
        }
      ]
    },
    {
      "cell_type": "markdown",
      "metadata": {
        "id": "mHX0ESEe69dq"
      },
      "source": [
        "#LIST FUNCTION CALLS\n"
      ]
    },
    {
      "cell_type": "code",
      "metadata": {
        "colab": {
          "base_uri": "https://localhost:8080/"
        },
        "id": "zVYQxOwGF751",
        "outputId": "2f247843-2482-44ff-f362-426ba96b4114"
      },
      "source": [
        "dir(list)"
      ],
      "execution_count": 60,
      "outputs": [
        {
          "output_type": "execute_result",
          "data": {
            "text/plain": [
              "['__add__',\n",
              " '__class__',\n",
              " '__contains__',\n",
              " '__delattr__',\n",
              " '__delitem__',\n",
              " '__dir__',\n",
              " '__doc__',\n",
              " '__eq__',\n",
              " '__format__',\n",
              " '__ge__',\n",
              " '__getattribute__',\n",
              " '__getitem__',\n",
              " '__gt__',\n",
              " '__hash__',\n",
              " '__iadd__',\n",
              " '__imul__',\n",
              " '__init__',\n",
              " '__init_subclass__',\n",
              " '__iter__',\n",
              " '__le__',\n",
              " '__len__',\n",
              " '__lt__',\n",
              " '__mul__',\n",
              " '__ne__',\n",
              " '__new__',\n",
              " '__reduce__',\n",
              " '__reduce_ex__',\n",
              " '__repr__',\n",
              " '__reversed__',\n",
              " '__rmul__',\n",
              " '__setattr__',\n",
              " '__setitem__',\n",
              " '__sizeof__',\n",
              " '__str__',\n",
              " '__subclasshook__',\n",
              " 'append',\n",
              " 'clear',\n",
              " 'copy',\n",
              " 'count',\n",
              " 'extend',\n",
              " 'index',\n",
              " 'insert',\n",
              " 'pop',\n",
              " 'remove',\n",
              " 'reverse',\n",
              " 'sort']"
            ]
          },
          "metadata": {},
          "execution_count": 60
        }
      ]
    },
    {
      "cell_type": "code",
      "metadata": {
        "id": "1LIzMJoFCtgl"
      },
      "source": [
        "#list function calls\n",
        "\n",
        "#1.list.sort()\n",
        "\n",
        "#list not sorted\n",
        "#initailizing l1 list\n",
        "l1=[2,6,3,7]\n",
        "l1.sort()\n",
        "print(\"list after sorting\")\n",
        "print(l1)\n",
        "\n",
        "\n"
      ],
      "execution_count": null,
      "outputs": []
    },
    {
      "cell_type": "code",
      "metadata": {
        "id": "6lmffwir-UkF"
      },
      "source": [
        "#2.reversing list\n",
        "l1.reverse()\n",
        "print(\"after reversing the list is\",l1)"
      ],
      "execution_count": null,
      "outputs": []
    },
    {
      "cell_type": "code",
      "metadata": {
        "id": "MIc_Yqfs-YTT"
      },
      "source": [
        "3.list.count()\n",
        "\n",
        "#Python list method count() returns count of how many times obj occurs in list.\n",
        "\n",
        "#finding the count of element \"2\" present in the list l1\n",
        "\n",
        "print(\"The count of element 2 in the list is \",l1.count(2))"
      ],
      "execution_count": null,
      "outputs": []
    },
    {
      "cell_type": "code",
      "metadata": {
        "id": "87N_4we6-ZeX"
      },
      "source": [
        "4.#list.append()\n",
        "\n",
        "#creating empty list\n",
        "list=[]\n",
        "\n",
        "list.append(2)\n",
        "list.append(3)\n",
        "print(\"List after appending\")\n",
        "print(list)"
      ],
      "execution_count": null,
      "outputs": []
    },
    {
      "cell_type": "code",
      "metadata": {
        "colab": {
          "base_uri": "https://localhost:8080/"
        },
        "id": "jAfNyAjfGvY1",
        "outputId": "d8a5e176-04d2-493c-d916-4dfb916ecbab"
      },
      "source": [
        "5.#list.index() \n",
        "#Python list method index() returns the lowest index in list that obj appears.\n",
        "\n",
        "l2=['a','b','c',154]\n",
        "print(\"The index of element 'a' in the list is \",l2.index('a'))"
      ],
      "execution_count": null,
      "outputs": [
        {
          "output_type": "stream",
          "name": "stdout",
          "text": [
            "The index of element 'a' in the list is  0\n"
          ]
        }
      ]
    },
    {
      "cell_type": "code",
      "metadata": {
        "colab": {
          "base_uri": "https://localhost:8080/"
        },
        "id": "L3OYzWOEHbg1",
        "outputId": "157a6cd9-5b99-4d05-ea9e-219df1e0cc0f"
      },
      "source": [
        "6.#list.pop()\n",
        "#Python list method pop() removes and returns last object or obj from the list.\n",
        "\n",
        "l2=['a','b','c',154]\n",
        "print(l2.pop())\n"
      ],
      "execution_count": null,
      "outputs": [
        {
          "output_type": "stream",
          "name": "stdout",
          "text": [
            "154\n"
          ]
        }
      ]
    },
    {
      "cell_type": "code",
      "metadata": {
        "colab": {
          "base_uri": "https://localhost:8080/"
        },
        "id": "zwv5jJGv_H0g",
        "outputId": "23c6e9c7-06b2-4d42-b7b9-9f5a36e868ea"
      },
      "source": [
        "#7.__str__()\n",
        "\n",
        "#converting list to string\n",
        "\n",
        "l2=['a','b','c',154]\n",
        "l=l2.__str__()\n",
        "print(type(l))\n",
        "print(l)"
      ],
      "execution_count": 72,
      "outputs": [
        {
          "output_type": "stream",
          "name": "stdout",
          "text": [
            "<class 'str'>\n",
            "['a', 'b', 'c', 154]\n"
          ]
        }
      ]
    },
    {
      "cell_type": "code",
      "metadata": {
        "colab": {
          "base_uri": "https://localhost:8080/"
        },
        "id": "5vxi0uDr_dBg",
        "outputId": "008fbd43-9ecb-4165-deae-e9170476be68"
      },
      "source": [
        "#8.__sizeof__() to check the space allocated in list\n",
        "\n",
        "l2=['a','b','c',154]\n",
        "print(l2.__sizeof__())"
      ],
      "execution_count": 74,
      "outputs": [
        {
          "output_type": "stream",
          "name": "stdout",
          "text": [
            "72\n"
          ]
        }
      ]
    },
    {
      "cell_type": "markdown",
      "metadata": {
        "id": "E7AIOVPd1tZB"
      },
      "source": [
        "#INTEGER FUNCTION CALLS\n"
      ]
    },
    {
      "cell_type": "code",
      "metadata": {
        "colab": {
          "base_uri": "https://localhost:8080/"
        },
        "id": "pXSnKhGy14ce",
        "outputId": "712504c9-4011-4e75-af4e-5107cba74069"
      },
      "source": [
        "dir(int)"
      ],
      "execution_count": 35,
      "outputs": [
        {
          "output_type": "execute_result",
          "data": {
            "text/plain": [
              "['__abs__',\n",
              " '__add__',\n",
              " '__and__',\n",
              " '__bool__',\n",
              " '__ceil__',\n",
              " '__class__',\n",
              " '__delattr__',\n",
              " '__dir__',\n",
              " '__divmod__',\n",
              " '__doc__',\n",
              " '__eq__',\n",
              " '__float__',\n",
              " '__floor__',\n",
              " '__floordiv__',\n",
              " '__format__',\n",
              " '__ge__',\n",
              " '__getattribute__',\n",
              " '__getnewargs__',\n",
              " '__gt__',\n",
              " '__hash__',\n",
              " '__index__',\n",
              " '__init__',\n",
              " '__init_subclass__',\n",
              " '__int__',\n",
              " '__invert__',\n",
              " '__le__',\n",
              " '__lshift__',\n",
              " '__lt__',\n",
              " '__mod__',\n",
              " '__mul__',\n",
              " '__ne__',\n",
              " '__neg__',\n",
              " '__new__',\n",
              " '__or__',\n",
              " '__pos__',\n",
              " '__pow__',\n",
              " '__radd__',\n",
              " '__rand__',\n",
              " '__rdivmod__',\n",
              " '__reduce__',\n",
              " '__reduce_ex__',\n",
              " '__repr__',\n",
              " '__rfloordiv__',\n",
              " '__rlshift__',\n",
              " '__rmod__',\n",
              " '__rmul__',\n",
              " '__ror__',\n",
              " '__round__',\n",
              " '__rpow__',\n",
              " '__rrshift__',\n",
              " '__rshift__',\n",
              " '__rsub__',\n",
              " '__rtruediv__',\n",
              " '__rxor__',\n",
              " '__setattr__',\n",
              " '__sizeof__',\n",
              " '__str__',\n",
              " '__sub__',\n",
              " '__subclasshook__',\n",
              " '__truediv__',\n",
              " '__trunc__',\n",
              " '__xor__',\n",
              " 'bit_length',\n",
              " 'conjugate',\n",
              " 'denominator',\n",
              " 'from_bytes',\n",
              " 'imag',\n",
              " 'numerator',\n",
              " 'real',\n",
              " 'to_bytes']"
            ]
          },
          "metadata": {},
          "execution_count": 35
        }
      ]
    },
    {
      "cell_type": "code",
      "metadata": {
        "colab": {
          "base_uri": "https://localhost:8080/"
        },
        "id": "Gd1yBQc32BWv",
        "outputId": "c1e61792-4169-4b71-f351-3fcff05c76fd"
      },
      "source": [
        "#1.bit_length() function in int\n",
        "\n",
        "\"\"\"Returns the number of bits required to represent an integer in binary, \n",
        "excluding the sign and leading zeros\"\"\"\n",
        "\n",
        "n=8\n",
        "print(n.bit_length())\n"
      ],
      "execution_count": 37,
      "outputs": [
        {
          "output_type": "stream",
          "name": "stdout",
          "text": [
            "4\n"
          ]
        }
      ]
    },
    {
      "cell_type": "code",
      "metadata": {
        "colab": {
          "base_uri": "https://localhost:8080/"
        },
        "id": "THCnob1I2kjw",
        "outputId": "55bc2428-730a-4c49-e0fc-5ea757d62c4f"
      },
      "source": [
        "#2.conjugate function in int\n",
        "\n",
        "#The function will remove parenthesis from the number.\n",
        "\n",
        "x=(5)\n",
        "x.conjugate()"
      ],
      "execution_count": 39,
      "outputs": [
        {
          "output_type": "execute_result",
          "data": {
            "text/plain": [
              "5"
            ]
          },
          "metadata": {},
          "execution_count": 39
        }
      ]
    },
    {
      "cell_type": "code",
      "metadata": {
        "colab": {
          "base_uri": "https://localhost:8080/"
        },
        "id": "zJWo5t0b3Eq1",
        "outputId": "ffd12a87-0d16-4d0d-fce9-b5b8c1868436"
      },
      "source": [
        "#3.int.from_bytes() \n",
        "#Return the integer represented by the given array of bytes\n",
        "\n",
        "int.from_bytes(b'Python Lake', byteorder='big')\n",
        "\n"
      ],
      "execution_count": 40,
      "outputs": [
        {
          "output_type": "execute_result",
          "data": {
            "text/plain": [
              "97287619261264698714188645"
            ]
          },
          "metadata": {},
          "execution_count": 40
        }
      ]
    },
    {
      "cell_type": "code",
      "metadata": {
        "colab": {
          "base_uri": "https://localhost:8080/"
        },
        "id": "DKlWbEAw4fDs",
        "outputId": "331f2e68-6027-4052-ee32-bdef57e8d785"
      },
      "source": [
        "#4.imag()\n",
        "#Returns the imaginary part of a complex number\n",
        "\n",
        "c=5+2j\n",
        "c.imag"
      ],
      "execution_count": 50,
      "outputs": [
        {
          "output_type": "execute_result",
          "data": {
            "text/plain": [
              "2.0"
            ]
          },
          "metadata": {},
          "execution_count": 50
        }
      ]
    },
    {
      "cell_type": "code",
      "metadata": {
        "colab": {
          "base_uri": "https://localhost:8080/"
        },
        "id": "NIyxyl0t6awv",
        "outputId": "b91f96fd-6764-47fc-d44c-64d093d077de"
      },
      "source": [
        "#5.int.to_bytes()\n",
        "#Return an array of bytes representing an integer\n",
        "\n",
        "(2221).to_bytes(10, byteorder='big')\n",
        "\n"
      ],
      "execution_count": 51,
      "outputs": [
        {
          "output_type": "execute_result",
          "data": {
            "text/plain": [
              "b'\\x00\\x00\\x00\\x00\\x00\\x00\\x00\\x00\\x08\\xad'"
            ]
          },
          "metadata": {},
          "execution_count": 51
        }
      ]
    },
    {
      "cell_type": "markdown",
      "metadata": {
        "id": "SaZDaEYu7ES1"
      },
      "source": [
        "#FLOAT FUNCTION CALLS\n"
      ]
    },
    {
      "cell_type": "code",
      "metadata": {
        "id": "XSCt6y1n7Hu5"
      },
      "source": [
        "dir(float)"
      ],
      "execution_count": null,
      "outputs": []
    },
    {
      "cell_type": "code",
      "metadata": {
        "colab": {
          "base_uri": "https://localhost:8080/"
        },
        "id": "DP4CLUoo7oXb",
        "outputId": "f9d1d27d-29f0-4b64-8bac-225d0d77ced7"
      },
      "source": [
        "#1 flaot.as_integer_ratio()\n",
        "\n",
        "#return value is tuple\n",
        "3.14.as_integer_ratio()\n"
      ],
      "execution_count": 54,
      "outputs": [
        {
          "output_type": "execute_result",
          "data": {
            "text/plain": [
              "(7070651414971679, 2251799813685248)"
            ]
          },
          "metadata": {},
          "execution_count": 54
        }
      ]
    },
    {
      "cell_type": "code",
      "metadata": {
        "colab": {
          "base_uri": "https://localhost:8080/"
        },
        "id": "5Ui4t--S8C3L",
        "outputId": "96946451-6bff-408c-ee57-0bae7e0019a9"
      },
      "source": [
        "#2.conjugate()\n",
        "\n",
        "a = 12.5\n",
        "b = a.conjugate()\n",
        "print(b)"
      ],
      "execution_count": 56,
      "outputs": [
        {
          "output_type": "stream",
          "name": "stdout",
          "text": [
            "12.5\n"
          ]
        }
      ]
    },
    {
      "cell_type": "code",
      "metadata": {
        "colab": {
          "base_uri": "https://localhost:8080/"
        },
        "id": "AJ-K3rEO8cU6",
        "outputId": "ff0ecc2b-841a-4498-f123-5c3fda40c1bc"
      },
      "source": [
        "# 3.to check wehther the number is float \n",
        "a = 12.0\n",
        "b = a.is_integer()\n",
        "print(b)\n"
      ],
      "execution_count": 57,
      "outputs": [
        {
          "output_type": "stream",
          "name": "stdout",
          "text": [
            "True\n"
          ]
        }
      ]
    },
    {
      "cell_type": "code",
      "metadata": {
        "colab": {
          "base_uri": "https://localhost:8080/"
        },
        "id": "T-jIt2AN8rqR",
        "outputId": "1f622297-0f84-4fac-addb-dd49d94e04db"
      },
      "source": [
        "#4.convert float to hex representation\n",
        "\n",
        "a = 12.4\n",
        "b = a.hex()\n",
        "print(b)"
      ],
      "execution_count": 58,
      "outputs": [
        {
          "output_type": "stream",
          "name": "stdout",
          "text": [
            "0x1.8cccccccccccdp+3\n"
          ]
        }
      ]
    },
    {
      "cell_type": "code",
      "metadata": {
        "colab": {
          "base_uri": "https://localhost:8080/"
        },
        "id": "E9rf2ZFX86kC",
        "outputId": "384a11bb-fcdf-43f2-8e1a-258497f7ef1a"
      },
      "source": [
        "#5.Convert hexa representation of float to a float ‘fromhex()’\n",
        "a = '0x1.8cccccccccccdp+3'\n",
        "b = float.fromhex(a)\n",
        "print(b)\n"
      ],
      "execution_count": 59,
      "outputs": [
        {
          "output_type": "stream",
          "name": "stdout",
          "text": [
            "12.4\n"
          ]
        }
      ]
    },
    {
      "cell_type": "markdown",
      "metadata": {
        "id": "NoFrUtND91_h"
      },
      "source": [
        "#TYPE CONVERSION\n"
      ]
    },
    {
      "cell_type": "code",
      "metadata": {
        "id": "ApzJANG9mYzX"
      },
      "source": [
        ""
      ],
      "execution_count": null,
      "outputs": []
    },
    {
      "cell_type": "code",
      "metadata": {
        "colab": {
          "base_uri": "https://localhost:8080/"
        },
        "id": "238DuqpE6dvV",
        "outputId": "1739cab6-6678-4ed2-80d8-a9542ae5bcc8"
      },
      "source": [
        "#TYPE CONVERSION\n",
        "#implicit type conversion\n",
        "y=5\n",
        "print(type(y))\n",
        "x=10.6\n",
        "print(type(x))\n",
        "\n",
        "x=x+y\n",
        "print(x)\n",
        "print(type(x))"
      ],
      "execution_count": null,
      "outputs": [
        {
          "output_type": "stream",
          "name": "stdout",
          "text": [
            "<class 'int'>\n",
            "<class 'float'>\n",
            "15.6\n",
            "<class 'float'>\n"
          ]
        }
      ]
    },
    {
      "cell_type": "code",
      "metadata": {
        "colab": {
          "base_uri": "https://localhost:8080/"
        },
        "id": "huMpXanV81pP",
        "outputId": "d98f2516-30a1-4bc4-a2bc-7e9ec2564d85"
      },
      "source": [
        "#explicit type conversion\n",
        "s=\"100\"\n",
        "#converting a string to  int base 2\n",
        "d=int(s,2)\n",
        "print(\"After converting into integrer\")\n",
        "print(d)\n",
        "\n",
        "#converting string to float\n",
        "e=float(s)\n",
        "print(e)\n"
      ],
      "execution_count": null,
      "outputs": [
        {
          "output_type": "stream",
          "name": "stdout",
          "text": [
            "After converting into integrer\n",
            "4\n",
            "100.0\n"
          ]
        }
      ]
    },
    {
      "cell_type": "markdown",
      "metadata": {
        "id": "UWxBgD9N9_SU"
      },
      "source": [
        ""
      ]
    },
    {
      "cell_type": "code",
      "metadata": {
        "colab": {
          "base_uri": "https://localhost:8080/"
        },
        "id": "aSGVXNvi9_ss",
        "outputId": "3825001d-510b-4bc5-a862-6df284845b9b"
      },
      "source": [
        "#type conversion using tuple(),set(),list()\n",
        "#initializing as string\n",
        "d='sayan'\n",
        "#converting into tuple\n",
        "c=tuple(d)\n",
        "print(c)\n",
        "\n",
        "#converting into set\n",
        "c=set(d)\n",
        "print(c)\n",
        "#converting into list\n",
        "c=list(s)\n",
        "print(c)\n",
        "\n"
      ],
      "execution_count": null,
      "outputs": [
        {
          "output_type": "stream",
          "name": "stdout",
          "text": [
            "('s', 'a', 'y', 'a', 'n')\n",
            "{'y', 'n', 's', 'a'}\n",
            "['1', '0', '0']\n"
          ]
        }
      ]
    },
    {
      "cell_type": "code",
      "metadata": {
        "colab": {
          "base_uri": "https://localhost:8080/"
        },
        "id": "dE6gH8xj-6hb",
        "outputId": "bcc373bd-6a92-4acf-feab-9bb073cb4a23"
      },
      "source": [
        "#type conversion using dict(),str(),complex(real,img)\n",
        "\n",
        "#intializing integer vaues\n",
        "\n",
        "tup=(('a',1),('f',2),('g',3))\n",
        "\n",
        "c=2\n",
        "b=3\n",
        "d=complex(c,b)\n",
        "#after converting to complex number\n",
        "print(d)\n",
        "\n",
        "#converting integer to string\n",
        "d=str(b)\n",
        "print(d)\n",
        "\n",
        "#converting tuple to dict\n",
        "d=dict(tup)\n",
        "print(d)\n",
        "\n"
      ],
      "execution_count": null,
      "outputs": [
        {
          "output_type": "stream",
          "name": "stdout",
          "text": [
            "(2+3j)\n",
            "3\n",
            "{'a': 1, 'f': 2, 'g': 3}\n"
          ]
        }
      ]
    },
    {
      "cell_type": "code",
      "metadata": {
        "colab": {
          "base_uri": "https://localhost:8080/"
        },
        "id": "WQNzUkKQ_vP8",
        "outputId": "730e35f5-edbb-4bb8-e1d5-23a2de9dd9c0"
      },
      "source": [
        "list=['a',1,2]\n",
        "print(list)\n",
        "#converting list to tuple\n",
        "l=tuple(list)\n",
        "print(l)"
      ],
      "execution_count": null,
      "outputs": [
        {
          "output_type": "stream",
          "name": "stdout",
          "text": [
            "['a', 1, 2]\n",
            "('a', 1, 2)\n"
          ]
        }
      ]
    },
    {
      "cell_type": "code",
      "metadata": {
        "id": "0w5Wms_iBTLM"
      },
      "source": [
        "#converting tuple to list\n",
        "\n",
        "t=(1,2,'b')\n",
        "print(type(t))\n",
        "# l=list(t)\n",
        "list(t)\n",
        "print(l)"
      ],
      "execution_count": null,
      "outputs": []
    },
    {
      "cell_type": "code",
      "metadata": {
        "id": "Bx3lBrVhCQ9c"
      },
      "source": [
        ""
      ],
      "execution_count": null,
      "outputs": []
    }
  ]
}